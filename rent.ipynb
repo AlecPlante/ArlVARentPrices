{
 "cells": [
  {
   "cell_type": "markdown",
   "metadata": {},
   "source": [
    "# **Rent History Arlinton VA**  \n",
    "### _by Alec Plante_  \n",
    "06/01/2022"
   ]
  },
  {
   "cell_type": "markdown",
   "metadata": {},
   "source": [
    "Description: Visualization of Historic Rent Prices in Arlinton VA\n",
    "\n",
    "Data From: [Apartment List](https://www.apartmentlist.com/research/category/data-rent-estimates)  \n",
    "https://www.apartmentlist.com/research/category/data-rent-estimates"
   ]
  },
  {
   "cell_type": "markdown",
   "metadata": {},
   "source": [
    "#### Table of Contents:  \n",
    "1. Imports\n",
    "2. Data Manipulation\n",
    "3. Data Visualization and Analysis\n"
   ]
  },
  {
   "cell_type": "markdown",
   "metadata": {},
   "source": [
    "##### Imports  \n",
    "This section outlines the necessary packages that we need to import, as well as the data"
   ]
  },
  {
   "cell_type": "code",
   "execution_count": 65,
   "metadata": {},
   "outputs": [],
   "source": [
    "import numpy as np\n",
    "import pandas as pd\n",
    "import matplotlib.pyplot as plt"
   ]
  },
  {
   "cell_type": "markdown",
   "metadata": {},
   "source": [
    "I am importing this data from the Github repository I created. This was taken from apartmentlist.com:"
   ]
  },
  {
   "cell_type": "code",
   "execution_count": 66,
   "metadata": {},
   "outputs": [],
   "source": [
    "url = \"https://raw.githubusercontent.com/AlecPlante/ArlVARentPrices/main/data.csv\"\n",
    "data = pd.read_csv(url)"
   ]
  },
  {
   "cell_type": "markdown",
   "metadata": {},
   "source": [
    "To get a good idea of what the data is, print the dataframe:"
   ]
  },
  {
   "cell_type": "code",
   "execution_count": null,
   "metadata": {},
   "outputs": [],
   "source": [
    "print(data)"
   ]
  },
  {
   "cell_type": "markdown",
   "metadata": {},
   "source": [
    "Print other aspects of the data to get a better understanding and to explore the data"
   ]
  },
  {
   "cell_type": "code",
   "execution_count": null,
   "metadata": {},
   "outputs": [],
   "source": [
    "# Make sure that the data is imported properly\n",
    "print(type(data)) # <class 'pandas.core.frame.DataFrame'>\n",
    "data.loc[0][0] # First cell value, 'Birmingham, AL'\n",
    "data.columns # This command prints the column names."
   ]
  },
  {
   "cell_type": "markdown",
   "metadata": {},
   "source": [
    "The columns are as follows:\n",
    "- **_City_Name_**: The location. We are looking for Arlington, VA\n",
    "- **_FIPS_Code_**: numbers which uniquely identify geographic areas\n",
    "- **_Population_**: The number of people living in the city\n",
    "- **_Bedroom_size_**: The number of bedrooms for each apartment\n",
    "- **_YYYY_MM_**: the average rent price for a given year and month"
   ]
  },
  {
   "cell_type": "markdown",
   "metadata": {},
   "source": [
    "##### Data Manipulation  \n",
    "This section changes the data to make visualization and models easier"
   ]
  },
  {
   "cell_type": "code",
   "execution_count": 169,
   "metadata": {},
   "outputs": [
    {
     "name": "stdout",
     "output_type": "stream",
     "text": [
      "<class 'pandas.core.frame.DataFrame'>\n",
      "Index(['City_Name', 'FIPS_Code', 'Population', 'Bedroom_Size', '2017_01',\n",
      "       '2017_02', '2017_03', '2017_04', '2017_05', '2017_06', '2017_07',\n",
      "       '2017_08', '2017_09', '2017_10', '2017_11', '2017_12', '2018_01',\n",
      "       '2018_02', '2018_03', '2018_04', '2018_05', '2018_06', '2018_07',\n",
      "       '2018_08', '2018_09', '2018_10', '2018_11', '2018_12', '2019_01',\n",
      "       '2019_02', '2019_03', '2019_04', '2019_05', '2019_06', '2019_07',\n",
      "       '2019_08', '2019_09', '2019_10', '2019_11', '2019_12', '2020_01',\n",
      "       '2020_02', '2020_03', '2020_04', '2020_05', '2020_06', '2020_07',\n",
      "       '2020_08', '2020_09', '2020_10', '2020_11', '2020_12', '2021_01',\n",
      "       '2021_02', '2021_03', '2021_04', '2021_05', '2021_06', '2021_07',\n",
      "       '2021_08', '2021_09', '2021_10', '2021_11', '2021_12', '2022_01',\n",
      "       '2022_02', '2022_03', '2022_04', '2022_05'],\n",
      "      dtype='object')\n"
     ]
    }
   ],
   "source": [
    "# Find where the city is equal to Arlinton, which is where I am moving.\n",
    "data1 = data.loc[data[\"City_Name\"]==\"Arlington, VA\"]\n",
    "print(type(data1)) #ensure that the returning type is still a df\n",
    "print(data1.columns) # The columns should be the same as before"
   ]
  },
  {
   "cell_type": "code",
   "execution_count": 171,
   "metadata": {},
   "outputs": [],
   "source": [
    "## I am looking at 2 bedrooms, so I will only take the row with those\n",
    "data1[\"Bedroom_Size\"] # to view the different options for bedroom sizes\n",
    "data2 = data1.loc[data[\"Bedroom_Size\"]==\"2br\"] # only include 2 bedroom apts\n",
    "\n",
    "# Drop the tables that are not rent prices. Like the poplulation, town name, etc.\n",
    "data3=data2.drop(data.columns[[0,1,2,3]],axis=1)\n",
    "\n",
    "# Get list of the column names remaining.\n",
    "all_col = list(data3)\n",
    "\n",
    "# Make these columns floats (cannot directly cast to string because of the decimal)\n",
    "data3[all_col]=data3[all_col].astype(float)\n",
    "\n",
    "# make these columns ints, to graph easier\n",
    "data3.iloc[0]=data3.iloc[0].astype(int)\n",
    "\n",
    "# Make the columns for this data as the months and the years.\n",
    "data3.columns=pd.date_range(\"2017\", freq=\"M\",periods = 65)\n",
    "\n",
    "# Because the columns are dates their own dates, we need to transpose to make those the rows\n",
    "data3=data3.transpose()"
   ]
  },
  {
   "cell_type": "markdown",
   "metadata": {},
   "source": [
    "##### Data Analysis and Visualization\n",
    "\n",
    "We can finally plot the trend, assess the numbers"
   ]
  },
  {
   "cell_type": "code",
   "execution_count": 178,
   "metadata": {},
   "outputs": [
    {
     "data": {
      "text/plain": [
       "Text(0, 0.5, 'Price (USD)')"
      ]
     },
     "execution_count": 178,
     "metadata": {},
     "output_type": "execute_result"
    },
    {
     "data": {
      "text/plain": [
       "<Figure size 432x288 with 0 Axes>"
      ]
     },
     "metadata": {},
     "output_type": "display_data"
    },
    {
     "data": {
      "image/png": "[encoded data removed]",
      "text/plain": [
       "<Figure size 432x288 with 1 Axes>"
      ]
     },
     "metadata": {
      "needs_background": "light"
     },
     "output_type": "display_data"
    }
   ],
   "source": [
    "data3.plot()\n",
    "plt.title(\"Rent Price by Time\")\n",
    "plt.xlabel(\"Year\")\n",
    "plt.ylabel(\"Price (USD)\")"
   ]
  },
  {
   "cell_type": "code",
   "execution_count": 180,
   "metadata": {},
   "outputs": [
    {
     "name": "stdout",
     "output_type": "stream",
     "text": [
      "['2017_07', '2018_08', '2020_03', '2021_09', '2022_05']\n"
     ]
    }
   ],
   "source": [
    "# find local Maxes\n",
    "maxes = []\n",
    "for i in range(1,len(data3)-1):\n",
    "    if data3.iloc[i,0]>data3.iloc[i-1,0] and data3.iloc[i,0]>data3.iloc[i+1,0]:\n",
    "        maxes.append(all_col[i])\n",
    "if data3.iloc[len(data3)-1,0] > data3.iloc[len(data3)-2,0]:\n",
    "    maxes.append(all_col[len(data3)-1])\n",
    "print(maxes)\n",
    "\n",
    "#Prices seem to peak around july and august. We should sign ASAP"
   ]
  },
  {
   "cell_type": "markdown",
   "metadata": {},
   "source": [
    "### Conclusion\n",
    "\n",
    "After looking at the data in a graph, and looking at the max prices and when they occur, it would make the most sense if I were to try to sign for an apartment ASAP, as prices seem to peek around July and August, and I start in August.  \n",
    "It is important to note that post march 2020, the data is rather unusual due to the COVID-19 Pandemic.  \n",
    "Since the project was meant to be a quick refresher of some skills I already know, I kept it simple. The main idea was to get an answer of when I should sign my lease.  \n",
    "There is a lot more I could add to this project if I were to continue it. For instance:\n",
    "- Develop a prediction model using an ARIMA Model. This would need more datapoints.\n",
    "- Look at the 1 bedroom and overall rent prices.\n",
    "- Create other visualizations.\n",
    "- Explore trends in other cities.  \n",
    "These are just some ideas that I had, but since I acheived my goal of finding the best time to move in, I will be moving on to other projects and signing a lease. Thank you for viewing!"
   ]
  }
 ],
 "metadata": {
  "interpreter": {
   "hash": "f4594f8eeaf976fc7f5445eb8cdc2aa680928b4dbbd7898ac1aa9d84edb5af49"
  },
  "kernelspec": {
   "display_name": "Python 3.8.5 ('base')",
   "language": "python",
   "name": "python3"
  },
  "language_info": {
   "codemirror_mode": {
    "name": "ipython",
    "version": 3
   },
   "file_extension": ".py",
   "mimetype": "text/x-python",
   "name": "python",
   "nbconvert_exporter": "python",
   "pygments_lexer": "ipython3",
   "version": "3.8.5"
  },
  "orig_nbformat": 4
 },
 "nbformat": 4,
 "nbformat_minor": 2
}
